{
  "nbformat": 4,
  "nbformat_minor": 0,
  "metadata": {
    "colab": {
      "provenance": []
    },
    "kernelspec": {
      "name": "python3",
      "display_name": "Python 3"
    },
    "language_info": {
      "name": "python"
    }
  },
  "cells": [
    {
      "cell_type": "code",
      "execution_count": null,
      "metadata": {
        "id": "wgMz4hCrDn9M"
      },
      "outputs": [],
      "source": [
        "import pandas as pd\n",
        "\n",
        "df_patients = pd.read_csv(\"PATIENTS.csv\")\n",
        "df_admissions = pd.read_csv(\"ADMISSIONS.csv\")\n",
        "\n",
        "# Convert date columns to datetime\n",
        "df_patients['DOB'] = pd.to_datetime(df_patients['DOB'], errors='coerce', infer_datetime_format=True)\n",
        "df_admissions['ADMITTIME'] = pd.to_datetime(df_admissions['ADMITTIME'], errors='coerce', infer_datetime_format=True)\n",
        "df_admissions['DISCHTIME'] = pd.to_datetime(df_admissions['DISCHTIME'], errors='coerce', infer_datetime_format=True)\n",
        "\n",
        "# Calculate the difference in days between DISCHTIME and ADMITTIME\n",
        "df_admissions['StayDays'] = (df_admissions['DISCHTIME'] - df_admissions['ADMITTIME']).dt.days\n",
        "\n",
        "# Sum the StayDays for each SUBJECT_ID\n",
        "total_admitted_days = df_admissions.groupby('SUBJECT_ID')['StayDays'].sum().reset_index()\n",
        "total_admitted_days.columns = ['SUBJECT_ID', 'TotalAdmittedDays']\n",
        "\n",
        "# Create the new column 'ReAdmitCount' which counts the number of times each SUBJECT_ID appears\n",
        "df_admissions['ReAdmitCount'] = df_admissions.groupby('SUBJECT_ID')['SUBJECT_ID'].transform('count')\n",
        "\n",
        "# Merge total admitted days and ReAdmitCount back into the main dataframe\n",
        "df_admissions = pd.merge(df_admissions, total_admitted_days, on='SUBJECT_ID', how='left')\n",
        "\n",
        "# Sort df_admissions by SUBJECT_ID and ADMITTIME\n",
        "df_admissions_sorted = df_admissions.sort_values(by=['SUBJECT_ID', 'ADMITTIME'])\n",
        "\n",
        "# Merge df_patients and sorted df_admissions on SUBJECT_ID\n",
        "merged_df = pd.merge(df_admissions_sorted, df_patients[['SUBJECT_ID', 'DOB']], on='SUBJECT_ID', how='left')\n",
        "\n",
        "# Determine the first admission time for each patient\n",
        "merged_df['FirstAdmitTime'] = merged_df.groupby('SUBJECT_ID')['ADMITTIME'].transform('min')\n",
        "\n",
        "# Extract the year from the first ADMITTIME and DOB\n",
        "merged_df['YearOfFirstAdmit'] = merged_df['FirstAdmitTime'].dt.year\n",
        "merged_df['YearOfBirth'] = merged_df['DOB'].dt.year\n",
        "\n",
        "# Calculate the age by subtracting the year of DOB from the year of first ADMITTIME\n",
        "merged_df['AGE'] = merged_df['YearOfFirstAdmit'] - merged_df['YearOfBirth']\n",
        "\n",
        "# Select the relevant columns and remove duplicates\n",
        "final_df = merged_df[['SUBJECT_ID','AGE', 'TotalAdmittedDays', 'ReAdmitCount']].drop_duplicates(subset='SUBJECT_ID')\n",
        "final_df = final_df.merge(df_admissions[['SUBJECT_ID', 'ETHNICITY']], on='SUBJECT_ID', how='left')\n",
        "\n",
        "# Drop records with NaN values in the 'age' column\n",
        "final_df = final_df.dropna(subset=['AGE'])\n",
        "\n",
        "final_df['AVG_ADMITDAYS'] = final_df['TotalAdmittedDays'] / final_df['ReAdmitCount']\n",
        "\n",
        "final_df = final_df.drop_duplicates(subset='SUBJECT_ID', keep='first')\n",
        "\n",
        "final_df.to_csv('FinalData.csv')"
      ]
    }
  ]
}